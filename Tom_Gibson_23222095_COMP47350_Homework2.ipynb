{
 "cells": [
  {
   "cell_type": "markdown",
   "id": "f3355208",
   "metadata": {},
   "source": [
    "- Homework2\n",
    "- **This homework focuses on training and evaluating prediction models for a particular problem and dataset.**\n",
    "- **In this analysis, we focus on using the data collected by CDC to build a data analytics solution for death risk prediction.**\n",
    "- The goal in this homework is to work with the data to build and evaluate prediction models that capture the relationship between the descriptive features and the target feature **death_yn**"
   ]
  },
  {
   "cell_type": "code",
   "execution_count": null,
   "id": "6aabf639",
   "metadata": {
    "vscode": {
     "languageId": "plaintext"
    }
   },
   "outputs": [],
   "source": [
    "import pandas as pd\n",
    "import numpy as np\n",
    "import matplotlib.pyplot as plt"
   ]
  }
 ],
 "metadata": {
  "kernelspec": {
   "display_name": "Python 3 (ipykernel)",
   "language": "python",
   "name": "python3"
  },
  "language_info": {
   "codemirror_mode": {
    "name": "ipython",
    "version": 3
   },
   "file_extension": ".py",
   "mimetype": "text/x-python",
   "name": "python",
   "nbconvert_exporter": "python",
   "pygments_lexer": "ipython3",
   "version": "3.11.7"
  }
 },
 "nbformat": 4,
 "nbformat_minor": 5
}
